{
 "cells": [
  {
   "cell_type": "code",
   "execution_count": 10,
   "metadata": {},
   "outputs": [],
   "source": [
    "import speech_recognition as sr\n",
    "sr.__version__\n",
    "from pydub import AudioSegment"
   ]
  },
  {
   "cell_type": "code",
   "execution_count": 11,
   "metadata": {},
   "outputs": [],
   "source": [
    "def fromFile(audiofile):\n",
    "    if audiofile.endswith('mp3'):\n",
    "        r = sr.Recognizer()\n",
    "        audiofile = AudioSegment.from_mp3(audiofile)            # For file conversion\n",
    "        audiofile.export(\"example.wav\", format=\"wav\")           # For file conversion\n",
    "        file = sr.AudioFile(\"example.wav\")\n",
    "        with file as source:\n",
    "            #r.adjust_for_ambient_noise(source, duration=0.5)\n",
    "            audio = r.record(source)\n",
    "        try:\n",
    "            print(r.recognize_google(audio))\n",
    "        except:\n",
    "            print('Unable to transcribe audio')\n",
    "    else:\n",
    "        r = sr.Recognizer()\n",
    "        file = sr.AudioFile(audiofile)\n",
    "        with file as source:\n",
    "            #r.adjust_for_ambient_noise(source, duration=0.5)\n",
    "            audio = r.record(source)\n",
    "        try:\n",
    "            print(r.recognize_google(audio))\n",
    "        except:\n",
    "            print('Unable to transcribe audio')\n",
    "    return "
   ]
  },
  {
   "cell_type": "code",
   "execution_count": 12,
   "metadata": {},
   "outputs": [],
   "source": [
    "def fromMic():\n",
    "    r = sr.Recognizer()\n",
    "    with sr.Microphone() as source:\n",
    "        r.adjust_for_ambient_noise(source)\n",
    "        audio = r.record(source, duration = 10)\n",
    "    try:\n",
    "        print(r.recognize_google(audio))\n",
    "    except:\n",
    "        print('Unable to transcribe audio')\n",
    "    return"
   ]
  },
  {
   "cell_type": "code",
   "execution_count": 13,
   "metadata": {},
   "outputs": [
    {
     "name": "stdout",
     "output_type": "stream",
     "text": [
      "Enter 1 to read from audiofile, 2 for using mic:\n",
      "1\n",
      "some one month compare depression to being on the terrace of a 4th floor building the building is on fire And The Fire is rising upward every second what was is that there are many people around but half of them are laughing at you and the other half is calling you week because you are not able to solve your problems in periods you that the thing they are going to similar stuff but really they are not you have only two options either you wait and born or you jump\n"
     ]
    }
   ],
   "source": [
    "print('Enter 1 to read from audiofile, 2 for using mic:') \n",
    "inp = int(input())\n",
    "if inp == 1:\n",
    "    fromFile('new.wav')\n",
    "elif inp == 2:\n",
    "    fromMic()\n",
    "else:\n",
    "    print('Invalid Input')"
   ]
  },
  {
   "cell_type": "code",
   "execution_count": null,
   "metadata": {},
   "outputs": [],
   "source": []
  }
 ],
 "metadata": {
  "kernelspec": {
   "display_name": "Python 3",
   "language": "python",
   "name": "python3"
  },
  "language_info": {
   "codemirror_mode": {
    "name": "ipython",
    "version": 3
   },
   "file_extension": ".py",
   "mimetype": "text/x-python",
   "name": "python",
   "nbconvert_exporter": "python",
   "pygments_lexer": "ipython3",
   "version": "3.7.3"
  }
 },
 "nbformat": 4,
 "nbformat_minor": 2
}
